{
 "cells": [
  {
   "cell_type": "code",
   "execution_count": 10,
   "metadata": {},
   "outputs": [
    {
     "data": {
      "text/plain": [
       "13484"
      ]
     },
     "execution_count": 10,
     "metadata": {},
     "output_type": "execute_result"
    }
   ],
   "source": [
    "input_strat = open('inputs/2022_day02.txt','r')\n",
    "score = 0\n",
    "for line in input_strat:\n",
    "    line = line.strip('\\n')\n",
    "    opponent = line[0]\n",
    "    me = line[-1]\n",
    "    if opponent == 'A':\n",
    "        if me == 'X':\n",
    "            score += 4\n",
    "        elif me == \"Y\":\n",
    "            score += 8\n",
    "        else:\n",
    "            score += 3\n",
    "    elif opponent == 'B':\n",
    "        if me == 'X':\n",
    "            score += 1\n",
    "        elif me == \"Y\":\n",
    "            score += 5\n",
    "        else:\n",
    "            score += 9\n",
    "    else:\n",
    "        if me == 'X':\n",
    "            score += 7\n",
    "        elif me == \"Y\":\n",
    "            score += 2\n",
    "        else:\n",
    "            score += 6\n",
    "\n",
    "score"
   ]
  },
  {
   "cell_type": "code",
   "execution_count": 11,
   "metadata": {},
   "outputs": [
    {
     "data": {
      "text/plain": [
       "13433"
      ]
     },
     "execution_count": 11,
     "metadata": {},
     "output_type": "execute_result"
    }
   ],
   "source": [
    "input_strat_2 = open('intputs/2022_day02.txt','r')\n",
    "new_score = 0\n",
    "for line in input_strat_2:\n",
    "    line = line.strip('\\n')\n",
    "    opponent = line[0]\n",
    "    me = line[-1]\n",
    "    if me == \"X\":\n",
    "        if opponent == 'A':\n",
    "            new_score += 3\n",
    "        elif opponent == 'B':\n",
    "            new_score += 1\n",
    "        else:\n",
    "            new_score += 2\n",
    "    elif me == \"Y\":\n",
    "        if opponent == 'A':\n",
    "            new_score += 4\n",
    "        elif opponent == 'B':\n",
    "            new_score += 5\n",
    "        else:\n",
    "            new_score += 6\n",
    "    else:\n",
    "        if opponent == 'A':\n",
    "            new_score += 8\n",
    "        elif opponent == 'B':\n",
    "            new_score += 9\n",
    "        else:\n",
    "            new_score += 7\n",
    "\n",
    "new_score"
   ]
  },
  {
   "cell_type": "code",
   "execution_count": null,
   "metadata": {},
   "outputs": [],
   "source": []
  },
  {
   "cell_type": "code",
   "execution_count": null,
   "metadata": {},
   "outputs": [],
   "source": []
  }
 ],
 "metadata": {
  "kernelspec": {
   "display_name": "Python 3",
   "language": "python",
   "name": "python3"
  },
  "language_info": {
   "codemirror_mode": {
    "name": "ipython",
    "version": 3
   },
   "file_extension": ".py",
   "mimetype": "text/x-python",
   "name": "python",
   "nbconvert_exporter": "python",
   "pygments_lexer": "ipython3",
   "version": "3.7.3"
  }
 },
 "nbformat": 4,
 "nbformat_minor": 2
}
