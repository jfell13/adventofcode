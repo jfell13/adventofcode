{
 "cells": [
  {
   "cell_type": "code",
   "execution_count": 12,
   "metadata": {},
   "outputs": [],
   "source": [
    "values = {'a':1,'b':2,'c':3,'d':4,'e':5,'f':6,'g':7,'h':8,'i':9,'j':10,\n",
    "         'k':11,'l':12,'m':13,'n':14,'o':15,'p':16,'q':17,'r':18,'s':19,\n",
    "          't':20,'u':21,'v':22,'w':23,'x':24,'y':25,'z':26}"
   ]
  },
  {
   "cell_type": "code",
   "execution_count": 24,
   "metadata": {},
   "outputs": [
    {
     "data": {
      "text/plain": [
       "8139"
      ]
     },
     "execution_count": 24,
     "metadata": {},
     "output_type": "execute_result"
    }
   ],
   "source": [
    "rucksacks = open('inputs/2022_day03.txt','r')\n",
    "properties = 0\n",
    "for line in rucksacks:\n",
    "    line = line.strip(' \\n')\n",
    "    full = int(len(line))\n",
    "    half = int(full/2)\n",
    "    first = []\n",
    "    second = []\n",
    "    for i in range(0,half):\n",
    "        first.append(line[i])\n",
    "    for i in range(half,full):\n",
    "        second.append(line[i])\n",
    "#     print(first)\n",
    "#     print(second)\n",
    "    common = []\n",
    "    for item in first:\n",
    "        if item in second:\n",
    "            common.append(item)\n",
    "        else:\n",
    "            pass\n",
    "    common = list(set(common))\n",
    "    for item in common:\n",
    "        if item.isupper() == True:\n",
    "            properties += values[item.lower()]+26\n",
    "        else:\n",
    "            properties += values[item]\n",
    "#             if item.isupper() == True:\n",
    "#                 properties += values[item.lower()]+26\n",
    "#             else:\n",
    "#                 properties += values[item]\n",
    "    #break\n",
    "properties"
   ]
  },
  {
   "cell_type": "code",
   "execution_count": 61,
   "metadata": {},
   "outputs": [
    {
     "data": {
      "text/plain": [
       "2668"
      ]
     },
     "execution_count": 61,
     "metadata": {},
     "output_type": "execute_result"
    }
   ],
   "source": [
    "rucksacks_2 = open('inputs/2022_day03.txt','r')\n",
    "properties_2 = 0\n",
    "sacks = {}\n",
    "# common_2 = []\n",
    "counter = 1\n",
    "for line in rucksacks_2:\n",
    "    sacks[counter] = (line.strip(' \\n'))\n",
    "    counter += 1\n",
    "for i in range(1,counter,3):\n",
    "    #print(i)\n",
    "    first = ([*sacks[i]])\n",
    "    second = ([*sacks[i+1]])\n",
    "    third = ([*sacks[i+2]])\n",
    "#     print(first)\n",
    "#     print(second)\n",
    "#     print(third)\n",
    "    common=[]\n",
    "    for item in first:\n",
    "        if item in second:\n",
    "            if item in third:\n",
    "                #print(item)\n",
    "                common.append(item)\n",
    "            else:\n",
    "                pass\n",
    "        else:\n",
    "            pass\n",
    "    #print(first, second, third)\n",
    "    #break\n",
    "# print(common_2)\n",
    "    common = list(set(common))\n",
    "    for item in common:\n",
    "        if item.isupper() == True:\n",
    "            properties_2 += values[item.lower()]+26\n",
    "        else:\n",
    "            properties_2 += values[item]\n",
    "# print(len(sacks))\n",
    "# print(len(common_2))\n",
    "properties_2"
   ]
  },
  {
   "cell_type": "code",
   "execution_count": null,
   "metadata": {},
   "outputs": [],
   "source": []
  }
 ],
 "metadata": {
  "kernelspec": {
   "display_name": "Python 3",
   "language": "python",
   "name": "python3"
  },
  "language_info": {
   "codemirror_mode": {
    "name": "ipython",
    "version": 3
   },
   "file_extension": ".py",
   "mimetype": "text/x-python",
   "name": "python",
   "nbconvert_exporter": "python",
   "pygments_lexer": "ipython3",
   "version": "3.7.3"
  }
 },
 "nbformat": 4,
 "nbformat_minor": 2
}
